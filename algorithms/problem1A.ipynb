{
 "cells": [
  {
   "cell_type": "code",
   "execution_count": 626,
   "id": "bb4149ca",
   "metadata": {},
   "outputs": [],
   "source": [
    "import numpy as np\n",
    "import matplotlib.pyplot as plt\n",
    "import pandas as pd"
   ]
  },
  {
   "cell_type": "code",
   "execution_count": 627,
   "id": "fe6c332f",
   "metadata": {},
   "outputs": [],
   "source": [
    "dataset = pd.read_csv('house_data.csv')"
   ]
  },
  {
   "cell_type": "code",
   "execution_count": 628,
   "id": "c7fec7ae",
   "metadata": {},
   "outputs": [],
   "source": [
    "dataset.insert(5,'ones',1)"
   ]
  },
  {
   "cell_type": "code",
   "execution_count": 629,
   "id": "e5e7b2eb",
   "metadata": {},
   "outputs": [],
   "source": [
    "x = dataset.iloc[:,[5,6]]\n",
    "y = dataset.iloc[:,2]"
   ]
  },
  {
   "cell_type": "code",
   "execution_count": 630,
   "id": "7b36f740",
   "metadata": {},
   "outputs": [],
   "source": [
    "minValue = x.iloc[:,1].min() \n",
    "maxValue = x.iloc[:,1].max()\n",
    "#meanValue = trainDataX.iloc[:,1].mean()"
   ]
  },
  {
   "cell_type": "code",
   "execution_count": 631,
   "id": "12f0c588",
   "metadata": {},
   "outputs": [
    {
     "name": "stderr",
     "output_type": "stream",
     "text": [
      "C:\\Users\\kerols\\OneDrive\\Desktop\\assiML\\env\\lib\\site-packages\\pandas\\core\\indexing.py:1773: SettingWithCopyWarning: \n",
      "A value is trying to be set on a copy of a slice from a DataFrame.\n",
      "Try using .loc[row_indexer,col_indexer] = value instead\n",
      "\n",
      "See the caveats in the documentation: https://pandas.pydata.org/pandas-docs/stable/user_guide/indexing.html#returning-a-view-versus-a-copy\n",
      "  self._setitem_single_column(ilocs[0], value, pi)\n"
     ]
    }
   ],
   "source": [
    "x.iloc[:,1] = (x.iloc[:,1] - minValue)/(maxValue - minValue)"
   ]
  },
  {
   "cell_type": "code",
   "execution_count": 632,
   "id": "f0cec378",
   "metadata": {},
   "outputs": [],
   "source": [
    "dataSize =  (int)(0.8 * len(x))\n",
    "trainDataX = x[:dataSize]\n",
    "testDataX = x[dataSize:]\n",
    "trainDataY = y[:dataSize]\n",
    "testDataY = y[dataSize:]"
   ]
  },
  {
   "cell_type": "code",
   "execution_count": 633,
   "id": "2d850690",
   "metadata": {},
   "outputs": [],
   "source": [
    "arrX = np.array(trainDataX)\n",
    "arrY = np.array(trainDataY).flatten()\n",
    "theta = np.array([0,0])"
   ]
  },
  {
   "cell_type": "code",
   "execution_count": 634,
   "id": "a236a369",
   "metadata": {},
   "outputs": [],
   "source": [
    "m = len(arrY)"
   ]
  },
  {
   "cell_type": "code",
   "execution_count": 635,
   "id": "00eff99c",
   "metadata": {},
   "outputs": [],
   "source": [
    "def cost_function(x,y,theta,m):\n",
    "    j = np.sum((x.dot(theta) - y) **2)/(2*m)\n",
    "    return j"
   ]
  },
  {
   "cell_type": "code",
   "execution_count": 755,
   "id": "eda2392a",
   "metadata": {},
   "outputs": [],
   "source": [
    "iterations = 10000\n",
    "alpha = 0.35"
   ]
  },
  {
   "cell_type": "code",
   "execution_count": 762,
   "id": "000a9146",
   "metadata": {},
   "outputs": [],
   "source": [
    "def gradient_descent(x,y,theta,alpha,iterations,m):\n",
    "    history = [0] * iterations\n",
    "    for iter in range(iterations):\n",
    "        hyp = x.dot(theta)\n",
    "        loss = hyp - y\n",
    "        gradient = x.T.dot(loss)/m\n",
    "        theta = theta - (alpha * gradient)\n",
    "        cost = cost_function(x,y,theta,m)\n",
    "        #print(cost)\n",
    "        history[iter] = cost\n",
    "    return theta,history"
   ]
  },
  {
   "cell_type": "code",
   "execution_count": 763,
   "id": "70ba51d9",
   "metadata": {
    "scrolled": true
   },
   "outputs": [
    {
     "data": {
      "text/plain": [
       "34012848737.6167"
      ]
     },
     "execution_count": 763,
     "metadata": {},
     "output_type": "execute_result"
    }
   ],
   "source": [
    "(t,h) = gradient_descent(arrX,arrY,theta,alpha,iterations,m)\n",
    "h[-1]"
   ]
  },
  {
   "cell_type": "code",
   "execution_count": 764,
   "id": "e8ddfd97",
   "metadata": {
    "scrolled": false
   },
   "outputs": [
    {
     "data": {
      "image/png": "[encoded data removed]",
      "text/plain": [
       "<Figure size 432x288 with 1 Axes>"
      ]
     },
     "metadata": {
      "needs_background": "light"
     },
     "output_type": "display_data"
    }
   ],
   "source": [
    "#34012848737.6167\n",
    "#34012848737.616318\n",
    "plt.title('Cost Function J')\n",
    "plt.xlabel('No. of iterations')\n",
    "plt.ylabel('Cost')\n",
    "plt.plot(h)\n",
    "plt.show()"
   ]
  },
  {
   "cell_type": "code",
   "execution_count": 773,
   "id": "f3258d67",
   "metadata": {},
   "outputs": [
    {
     "data": {
      "image/png": "[encoded data removed]",
      "text/plain": [
       "<Figure size 432x288 with 1 Axes>"
      ]
     },
     "metadata": {
      "needs_background": "light"
     },
     "output_type": "display_data"
    }
   ],
   "source": [
    "fitX = np.linspace(0,0.8,2)\n",
    "fitY = [t[0] + t[1]*xx for xx in fitX]\n",
    "plt.title('Cost Function J')\n",
    "plt.xlabel('No. of iterations')\n",
    "plt.ylabel('Cost')\n",
    "plt.scatter(testDataX.iloc[:,1],testDataY)\n",
    "plt.plot(fitX,fitY, color='red')\n",
    "plt.show()"
   ]
  },
  {
   "cell_type": "code",
   "execution_count": 766,
   "id": "c4708e04",
   "metadata": {
    "scrolled": false
   },
   "outputs": [
    {
     "data": {
      "text/plain": [
       "34849793653.47116"
      ]
     },
     "execution_count": 766,
     "metadata": {},
     "output_type": "execute_result"
    }
   ],
   "source": [
    "cost_function(testDataX,testDataY,t,len(testDataX))"
   ]
  },
  {
   "cell_type": "code",
   "execution_count": 767,
   "id": "a3fbf62f",
   "metadata": {},
   "outputs": [
    {
     "data": {
      "text/plain": [
       "array([  32465.70921348, 3761465.58093688])"
      ]
     },
     "execution_count": 767,
     "metadata": {},
     "output_type": "execute_result"
    }
   ],
   "source": [
    "#34849793653.47116\n",
    "t"
   ]
  },
  {
   "cell_type": "code",
   "execution_count": null,
   "id": "88f1da62",
   "metadata": {},
   "outputs": [],
   "source": []
  }
 ],
 "metadata": {
  "kernelspec": {
   "display_name": "Python 3 (ipykernel)",
   "language": "python",
   "name": "python3"
  },
  "language_info": {
   "codemirror_mode": {
    "name": "ipython",
    "version": 3
   },
   "file_extension": ".py",
   "mimetype": "text/x-python",
   "name": "python",
   "nbconvert_exporter": "python",
   "pygments_lexer": "ipython3",
   "version": "3.9.7"
  }
 },
 "nbformat": 4,
 "nbformat_minor": 5
}
